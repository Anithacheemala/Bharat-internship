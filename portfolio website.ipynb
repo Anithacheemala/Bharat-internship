{
 "cells": [
  {
   "cell_type": "code",
   "execution_count": null,
   "metadata": {},
   "outputs": [],
   "source": [
    "<nav class=\"navbar navbar-expand-lg fixed-top navbarScroll\">\n",
    "        <div class=\"container\">\n",
    "            <a class=\"navbar-brand\" href=\"#\">Brad</a>\n",
    "            <button class=\"navbar-toggler\" type=\"button\" data-bs-toggle=\"collapse\" data-bs-target=\"#navbarSupportedContent\" aria-controls=\"navbarSupportedContent\" aria-expanded=\"false\" aria-label=\"Toggle navigation\">\n",
    "                <span class=\"navbar-toggler-icon\"></span>\n",
    "            </button>\n",
    "            <div class=\"collapse navbar-collapse\" id=\"navbarSupportedContent\">\n",
    "                <ul class=\"navbar-nav ms-auto\">\n",
    "                    <li class=\"nav-item active\">\n",
    "                        <a class=\"nav-link\" href=\"#home\">Home</a>\n",
    "                    </li>\n",
    "                    <li class=\"nav-item\">\n",
    "                        <a class=\"nav-link\" href=\"#about\">About</a>\n",
    "                    </li>\n",
    "                    <li class=\"nav-item\">\n",
    "                        <a class=\"nav-link\" href=\"#services\">Services</a>\n",
    "                    </li>\n",
    "                    <li class=\"nav-item\">\n",
    "                        <a class=\"nav-link\" href=\"#portfolio\">Portfolio</a>\n",
    "                    </li>\n",
    "                    <li class=\"nav-item\">\n",
    "                        <a class=\"nav-link\" href=\"#contact\">Contact</a>\n",
    "                    </li>\n",
    "                </ul>\n",
    "\n",
    "            </div>\n",
    "        </div>\n",
    "    </nav>\n"
   ]
  }
 ],
 "metadata": {
  "language_info": {
   "name": "python"
  }
 },
 "nbformat": 4,
 "nbformat_minor": 2
}
