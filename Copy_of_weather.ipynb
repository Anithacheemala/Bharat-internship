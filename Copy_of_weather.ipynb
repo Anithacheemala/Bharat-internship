{
  "nbformat": 4,
  "nbformat_minor": 0,
  "metadata": {
    "colab": {
      "provenance": [],
      "authorship_tag": "ABX9TyMpCE9iM/pi4PVojI7b7bJ2",
      "include_colab_link": true
    },
    "kernelspec": {
      "name": "python3",
      "display_name": "Python 3"
    },
    "language_info": {
      "name": "python"
    }
  },
  "cells": [
    {
      "cell_type": "markdown",
      "metadata": {
        "id": "view-in-github",
        "colab_type": "text"
      },
      "source": [
        "<a href=\"https://colab.research.google.com/github/Anithacheemala/Bharat-internship/blob/main/Copy_of_weather.ipynb\" target=\"_parent\"><img src=\"https://colab.research.google.com/assets/colab-badge.svg\" alt=\"Open In Colab\"/></a>"
      ]
    },
    {
      "cell_type": "code",
      "source": [
        "<!DOCTYPE html>\n",
        "<html>\n",
        "<head>\n",
        "    <title>Weather App</title>\n",
        "</head>\n",
        "<body>\n",
        "    <h1>Weather App</h1>\n",
        "    <form action=\"/weather\" method=\"post\">\n",
        "        <input type=\"text\" name=\"city\" placeholder=\"Enter city name\" required>\n",
        "        <button type=\"submit\">Get Weather</button>\n",
        "    </form>\n",
        "</body>\n",
        "</html>\n"
      ],
      "metadata": {
        "id": "sjiAXLEkvfg3"
      },
      "execution_count": null,
      "outputs": []
    }
  ]
}