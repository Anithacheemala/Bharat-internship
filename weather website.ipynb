{
 "cells": [
  {
   "cell_type": "code",
   "execution_count": null,
   "metadata": {},
   "outputs": [],
   "source": [
    "<!DOCTYPE html>\n",
    "<html>\n",
    "<head>\n",
    "    <title>Weather App</title>\n",
    "</head>\n",
    "<body>\n",
    "    <h1>Weather App</h1>\n",
    "    <form action=\"/weather\" method=\"post\">\n",
    "        <input type=\"text\" name=\"city\" placeholder=\"Enter city name\" required>\n",
    "        <button type=\"submit\">Get Weather</button>\n",
    "    </form>\n",
    "</body>\n",
    "</html>"
   ]
  }
 ],
 "metadata": {
  "language_info": {
   "name": "python"
  }
 },
 "nbformat": 4,
 "nbformat_minor": 2
}
