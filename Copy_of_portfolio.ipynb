{
  "nbformat": 4,
  "nbformat_minor": 0,
  "metadata": {
    "colab": {
      "provenance": [],
      "authorship_tag": "ABX9TyOSxWQXdNz23XJ5VMlgqhY+",
      "include_colab_link": true
    },
    "kernelspec": {
      "name": "python3",
      "display_name": "Python 3"
    },
    "language_info": {
      "name": "python"
    }
  },
  "cells": [
    {
      "cell_type": "markdown",
      "metadata": {
        "id": "view-in-github",
        "colab_type": "text"
      },
      "source": [
        "<a href=\"https://colab.research.google.com/github/Anithacheemala/Bharat-internship/blob/main/Copy_of_portfolio.ipynb\" target=\"_parent\"><img src=\"https://colab.research.google.com/assets/colab-badge.svg\" alt=\"Open In Colab\"/></a>"
      ]
    },
    {
      "cell_type": "code",
      "source": [
        "<nav class=\"navbar navbar-expand-lg fixed-top navbarScroll\">\n",
        "        <div class=\"container\">\n",
        "            <a class=\"navbar-brand\" href=\"#\">Brad</a>\n",
        "            <button class=\"navbar-toggler\" type=\"button\" data-bs-toggle=\"collapse\" data-bs-target=\"#navbarSupportedContent\" aria-controls=\"navbarSupportedContent\" aria-expanded=\"false\" aria-label=\"Toggle navigation\">\n",
        "                <span class=\"navbar-toggler-icon\"></span>\n",
        "            </button>\n",
        "            <div class=\"collapse navbar-collapse\" id=\"navbarSupportedContent\">\n",
        "                <ul class=\"navbar-nav ms-auto\">\n",
        "                    <li class=\"nav-item active\">\n",
        "                        <a class=\"nav-link\" href=\"#home\">Home</a>\n",
        "                    </li>\n",
        "                    <li class=\"nav-item\">\n",
        "                        <a class=\"nav-link\" href=\"#about\">About</a>\n",
        "                    </li>\n",
        "                    <li class=\"nav-item\">\n",
        "                        <a class=\"nav-link\" href=\"#services\">Services</a>\n",
        "                    </li>\n",
        "                    <li class=\"nav-item\">\n",
        "                        <a class=\"nav-link\" href=\"#portfolio\">Portfolio</a>\n",
        "                    </li>\n",
        "                    <li class=\"nav-item\">\n",
        "                        <a class=\"nav-link\" href=\"#contact\">Contact</a>\n",
        "                    </li>\n",
        "                </ul>\n",
        "\n",
        "            </div>\n",
        "        </div>\n",
        "    </nav>"
      ],
      "metadata": {
        "id": "dUblRzhpuzoA"
      },
      "execution_count": null,
      "outputs": []
    }
  ]
}